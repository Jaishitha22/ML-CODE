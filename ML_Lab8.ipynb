{
  "nbformat": 4,
  "nbformat_minor": 0,
  "metadata": {
    "colab": {
      "provenance": []
    },
    "kernelspec": {
      "name": "python3",
      "display_name": "Python 3"
    },
    "language_info": {
      "name": "python"
    }
  },
  "cells": [
    {
      "cell_type": "code",
      "source": [
        "# Import necessary libraries\n",
        "import pandas as pd\n",
        "from sklearn.naive_bayes import GaussianNB\n",
        "from sklearn.model_selection import train_test_split\n",
        "from sklearn.metrics import accuracy_score\n",
        "from scipy.stats import chi2_contingency"
      ],
      "metadata": {
        "id": "pd_nskPkCts2"
      },
      "execution_count": 2,
      "outputs": []
    },
    {
      "cell_type": "code",
      "source": [
        "# data\n",
        "data = {\n",
        "    'age': ['<=30', '<=30', '31…40', '>40', '>40', '>40', '31…40', '<=30', '<=30', '>40', '<=30', '31…40', '31…40', '>40'],\n",
        "    'income': ['high', 'high', 'high', 'medium', 'low', 'low', 'low', 'medium', 'low', 'medium', 'medium', 'medium', 'high', 'medium'],\n",
        "    'student': ['no', 'no', 'no', 'no', 'yes', 'yes', 'yes', 'no', 'yes', 'yes', 'yes', 'no', 'yes', 'no'],\n",
        "    'credit_rating': ['fair', 'fair', 'fair', 'fair', 'fair', 'excellent', 'excellent', 'fair', 'fair', 'fair', 'excellent', 'excellent', 'fair', 'no'],\n",
        "    'buys_computer': ['no', 'no', 'yes', 'yes', 'yes', 'no', 'yes', 'no', 'yes', 'yes', 'yes', 'yes', 'yes', 'no']\n",
        "}\n",
        "\n",
        "df = pd.DataFrame(data)"
      ],
      "metadata": {
        "id": "NVv8piB7C-NE"
      },
      "execution_count": 3,
      "outputs": []
    },
    {
      "cell_type": "code",
      "source": [
        "# A1\n",
        "# Calculating the prior probabilities by counting the occurrences of each class and normalizing.\n",
        "prior_probabilities = df['buys_computer'].value_counts(normalize=True)\n",
        "print(f\"Prior Probability for Each Class:\\n{prior_probabilities}\\n\")"
      ],
      "metadata": {
        "colab": {
          "base_uri": "https://localhost:8080/"
        },
        "id": "nBlGElc4DECV",
        "outputId": "eb5eb2a1-33c8-42c2-be85-5e420cbc3279"
      },
      "execution_count": 4,
      "outputs": [
        {
          "output_type": "stream",
          "name": "stdout",
          "text": [
            "Prior Probability for Each Class:\n",
            "yes    0.642857\n",
            "no     0.357143\n",
            "Name: buys_computer, dtype: float64\n",
            "\n"
          ]
        }
      ]
    },
    {
      "cell_type": "code",
      "source": [
        "# A2\n",
        "# Calculating class conditional densities for each feature and class by computing the mean of occurrences.\n",
        "class_conditional_densities = {}\n",
        "for col in df.columns[:-1]:\n",
        "    for class_val in df['buys_computer'].unique():\n",
        "        subset = df[df['buys_computer'] == class_val][col]\n",
        "        mean = subset.value_counts(normalize=True)\n",
        "        class_conditional_densities[(col, class_val)] = mean\n",
        "\n",
        "print(\"Class Conditional Densities:\")\n",
        "for key, value in class_conditional_densities.items():\n",
        "    print(f\"{key}: \\n{value}\\n\")\n",
        "\n"
      ],
      "metadata": {
        "colab": {
          "base_uri": "https://localhost:8080/"
        },
        "id": "k7KYguynDKfO",
        "outputId": "a63be3d4-a61d-4157-e8c1-924e98ec9b18"
      },
      "execution_count": 5,
      "outputs": [
        {
          "output_type": "stream",
          "name": "stdout",
          "text": [
            "Class Conditional Densities:\n",
            "('age', 'no'): \n",
            "<=30    0.6\n",
            ">40     0.4\n",
            "Name: age, dtype: float64\n",
            "\n",
            "('age', 'yes'): \n",
            "31…40    0.444444\n",
            ">40      0.333333\n",
            "<=30     0.222222\n",
            "Name: age, dtype: float64\n",
            "\n",
            "('income', 'no'): \n",
            "high      0.4\n",
            "medium    0.4\n",
            "low       0.2\n",
            "Name: income, dtype: float64\n",
            "\n",
            "('income', 'yes'): \n",
            "medium    0.444444\n",
            "low       0.333333\n",
            "high      0.222222\n",
            "Name: income, dtype: float64\n",
            "\n",
            "('student', 'no'): \n",
            "no     0.8\n",
            "yes    0.2\n",
            "Name: student, dtype: float64\n",
            "\n",
            "('student', 'yes'): \n",
            "yes    0.666667\n",
            "no     0.333333\n",
            "Name: student, dtype: float64\n",
            "\n",
            "('credit_rating', 'no'): \n",
            "fair         0.6\n",
            "excellent    0.2\n",
            "no           0.2\n",
            "Name: credit_rating, dtype: float64\n",
            "\n",
            "('credit_rating', 'yes'): \n",
            "fair         0.666667\n",
            "excellent    0.333333\n",
            "Name: credit_rating, dtype: float64\n",
            "\n"
          ]
        }
      ]
    },
    {
      "cell_type": "code",
      "source": [
        "# A3\n",
        "# Performing a chi-square independence test for the first two features and determining the independence test result.\n",
        "contingency_table = pd.crosstab(df['age'], df['income'])\n",
        "chi2, p, _, _ = chi2_contingency(contingency_table)\n",
        "independence_test_result = \"Independent\" if p > 0.05 else \"Dependent\"\n",
        "print(f\"Independence Test Result: {independence_test_result}\\n\")\n"
      ],
      "metadata": {
        "colab": {
          "base_uri": "https://localhost:8080/"
        },
        "id": "9JWTWrIMEPvN",
        "outputId": "48ef1a1e-59fc-4fe8-c939-ac32bb3c2276"
      },
      "execution_count": 6,
      "outputs": [
        {
          "output_type": "stream",
          "name": "stdout",
          "text": [
            "Independence Test Result: Independent\n",
            "\n"
          ]
        }
      ]
    },
    {
      "cell_type": "code",
      "source": [
        "# A4\n",
        "# Split the data into training and testing sets\n",
        "from sklearn.preprocessing import LabelEncoder\n",
        "label_encoder = LabelEncoder()\n",
        "df['age'] = label_encoder.fit_transform(df['age'])\n",
        "df['income'] = label_encoder.fit_transform(df['income'])\n",
        "df['student'] = label_encoder.fit_transform(df['student'])\n",
        "df['credit_rating'] = label_encoder.fit_transform(df['credit_rating'])\n",
        "df['buys_computer'] = label_encoder.fit_transform(df['buys_computer'])\n",
        "\n",
        "x = df.drop(\"buys_computer\", axis=1)\n",
        "y = df[\"buys_computer\"]\n",
        "x_train, x_test, y_train, y_test = train_test_split(x, y, test_size=0.2)\n",
        "\n",
        "model = GaussianNB()\n",
        "model.fit(x_train, y_train)\n",
        "predictions = model.predict(x_train)\n",
        "accuracy_nb = accuracy_score(y_train, predictions)\n",
        "print(f\"A4. Naïve-Bayes Classifier Accuracy: {accuracy_nb:.2f}\\n\")\n"
      ],
      "metadata": {
        "colab": {
          "base_uri": "https://localhost:8080/"
        },
        "id": "jDbhVMD1ETy0",
        "outputId": "29635614-c478-45a9-fb97-8aa469f8f028"
      },
      "execution_count": 7,
      "outputs": [
        {
          "output_type": "stream",
          "name": "stdout",
          "text": [
            "A4. Naïve-Bayes Classifier Accuracy: 0.73\n",
            "\n"
          ]
        }
      ]
    },
    {
      "cell_type": "code",
      "source": [
        "# A5\n",
        "from sklearn.naive_bayes import GaussianNB\n",
        "\n",
        "X = data.drop(columns=['status','name'])\n",
        "y = data['status']\n",
        "# Split the data into training and test sets\n",
        "Tr_X, Te_X, Tr_y, Te_y = train_test_split(X, y, test_size=0.2, random_state=42)\n",
        "\n",
        "# Fit the Gaussian Naive Bayes model\n",
        "model = GaussianNB()\n",
        "model.fit(Tr_X, Tr_y)\n",
        "\n",
        "# Evaluate the Navie Bayes model\n",
        "predicted_labels = model.predict(Te_X)\n",
        "accuracy = sum(predicted_labels == Te_y) / len(Te_y)\n",
        "print(\"Accuracy:\", accuracy)\n"
      ],
      "metadata": {
        "colab": {
          "base_uri": "https://localhost:8080/"
        },
        "id": "3fDxlHxbLIP2",
        "outputId": "6cbbe45c-f6be-46a8-bfef-2e46d1aa3ed1"
      },
      "execution_count": 13,
      "outputs": [
        {
          "output_type": "stream",
          "name": "stdout",
          "text": [
            "Accuracy: 0.6923076923076923\n"
          ]
        }
      ]
    }
  ]
}