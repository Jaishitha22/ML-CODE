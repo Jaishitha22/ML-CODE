{
  "nbformat": 4,
  "nbformat_minor": 0,
  "metadata": {
    "colab": {
      "provenance": []
    },
    "kernelspec": {
      "name": "python3",
      "display_name": "Python 3"
    },
    "language_info": {
      "name": "python"
    }
  },
  "cells": [
    {
      "cell_type": "code",
      "execution_count": 1,
      "metadata": {
        "colab": {
          "base_uri": "https://localhost:8080/"
        },
        "id": "vugFXeqJn8lt",
        "outputId": "4a782d35-740d-4141-c1d0-cca063ea9399"
      },
      "outputs": [
        {
          "output_type": "stream",
          "name": "stdout",
          "text": [
            "        age  income student credit_rating buys_computer\n",
            "0      <=30    high      no          fair            no\n",
            "1      <=30    high      no     excellent            no\n",
            "2   31...40    high      no          fair           yes\n",
            "3       >40  medium      no          fair           yes\n",
            "4       >40     low     yes          fair           yes\n",
            "5       >40     low     yes     excellent            no\n",
            "6   31...40     low     yes     excellent           yes\n",
            "7      <=30  medium      no          fair            no\n",
            "8      <=30     low     yes          fair           yes\n",
            "9       >40  medium     yes          fair           yes\n",
            "10     <=30  medium     yes     excellent           yes\n",
            "11  31...40  medium      no     excellent           yes\n",
            "12  31...40    high     yes          fair           yes\n",
            "13      >40  medium      no     excellent            no\n"
          ]
        }
      ],
      "source": [
        "#importing packages\n",
        "import numpy as np\n",
        "import pandas as pd\n",
        "df=pd.read_excel(\"ML_ASSIGNMENT.xlsx\")\n",
        "print(df)\n"
      ]
    },
    {
      "cell_type": "code",
      "source": [
        "df_income = pd.get_dummies(df['income'])\n",
        "df_student = pd.get_dummies(df['student'])\n",
        "df_new = pd.concat([df,df_income,df_student], axis=1)\n",
        "print(df_new)\n",
        "\n"
      ],
      "metadata": {
        "colab": {
          "base_uri": "https://localhost:8080/"
        },
        "id": "l8NmhU7ZsgXl",
        "outputId": "ce57e856-cfea-401d-f583-b4654fea5f42"
      },
      "execution_count": 16,
      "outputs": [
        {
          "output_type": "stream",
          "name": "stdout",
          "text": [
            "        age  income student credit_rating buys_computer  high  low  medium  \\\n",
            "0      <=30    high      no          fair            no     1    0       0   \n",
            "1      <=30    high      no     excellent            no     1    0       0   \n",
            "2   31...40    high      no          fair           yes     1    0       0   \n",
            "3       >40  medium      no          fair           yes     0    0       1   \n",
            "4       >40     low     yes          fair           yes     0    1       0   \n",
            "5       >40     low     yes     excellent            no     0    1       0   \n",
            "6   31...40     low     yes     excellent           yes     0    1       0   \n",
            "7      <=30  medium      no          fair            no     0    0       1   \n",
            "8      <=30     low     yes          fair           yes     0    1       0   \n",
            "9       >40  medium     yes          fair           yes     0    0       1   \n",
            "10     <=30  medium     yes     excellent           yes     0    0       1   \n",
            "11  31...40  medium      no     excellent           yes     0    0       1   \n",
            "12  31...40    high     yes          fair           yes     1    0       0   \n",
            "13      >40  medium      no     excellent            no     0    0       1   \n",
            "\n",
            "    no  yes  \n",
            "0    1    0  \n",
            "1    1    0  \n",
            "2    1    0  \n",
            "3    1    0  \n",
            "4    0    1  \n",
            "5    0    1  \n",
            "6    0    1  \n",
            "7    1    0  \n",
            "8    0    1  \n",
            "9    0    1  \n",
            "10   0    1  \n",
            "11   1    0  \n",
            "12   0    1  \n",
            "13   1    0  \n"
          ]
        }
      ]
    },
    {
      "cell_type": "code",
      "source": [
        "from sklearn.model_selection import train_test_split\n",
        "\n",
        "from sklearn.tree import DecisionTreeClassifier\n",
        "\n",
        "from sklearn import metrics\n",
        "\n",
        "import pandas as pd\n",
        "\n",
        "\n",
        "\n",
        "# Split dataset into features and target variable\n",
        "\n",
        "feature_cols = ['age', 'income', 'credit_rating', 'buys_computer']\n",
        "\n",
        "X = pd.get_dummies(df[feature_cols[:-1]], columns=['age', 'credit_rating','income'], drop_first=True)\n",
        "\n",
        "Y = df['student']\n",
        "\n",
        "\n",
        "\n",
        "# Split dataset into training set and test set\n",
        "\n",
        "X_train, X_test, Y_train, Y_test = train_test_split(X, Y, test_size=0.3, random_state=1)  # 70% training and 30% test\n",
        "\n",
        "\n",
        "\n",
        "# Create a Decision Tree classifier object\n",
        "\n",
        "model = DecisionTreeClassifier()\n",
        "\n",
        "\n",
        "\n",
        "# Train the Decision Tree classifier\n",
        "\n",
        "model.fit(X_train, Y_train)\n",
        "\n",
        "\n",
        "\n",
        "# Calculate the Training Set accuracy\n",
        "\n",
        "tr_accuracy = model.score(X_train, Y_train)\n",
        "\n",
        "print(\"Accuracy:\", tr_accuracy)\n",
        "\n",
        "\n",
        "\n",
        "# Get the depth of the Decision Tree\n",
        "\n",
        "depth = model.get_depth()\n",
        "\n",
        "print(\"Tree Depth:\", depth)"
      ],
      "metadata": {
        "colab": {
          "base_uri": "https://localhost:8080/"
        },
        "id": "fv6jSjoWzcJg",
        "outputId": "02747a80-bb74-4068-891e-6fc72228bb56"
      },
      "execution_count": 17,
      "outputs": [
        {
          "output_type": "stream",
          "name": "stdout",
          "text": [
            "Accuracy: 1.0\n",
            "Tree Depth: 3\n"
          ]
        }
      ]
    },
    {
      "cell_type": "code",
      "source": [
        "from sklearn.model_selection import train_test_split\n",
        "\n",
        "from sklearn.tree import DecisionTreeClassifier\n",
        "\n",
        "from sklearn import metrics\n",
        "\n",
        "\n",
        "\n",
        "# Split dataset into features and target variable\n",
        "\n",
        "feature_cols = ['age', 'income', 'credit_rating', 'buys_computer']\n",
        "\n",
        "X = pd.get_dummies(df[feature_cols[:-1]], columns=['age', 'credit_rating','income', 'credit_rating'], drop_first=True)\n",
        "\n",
        "Y = df['buys_computer']\n",
        "\n",
        "\n",
        "\n",
        "\n",
        "\n",
        "# Split dataset into training set and test set\n",
        "\n",
        "X_train, X_test, Y_train, Y_test = train_test_split(X, Y, test_size=0.3, random_state=1)  # 70% training and 30% test\n",
        "\n",
        "\n",
        "\n",
        "# Create Decision Tree classifier object\n",
        "\n",
        "clf = DecisionTreeClassifier()\n",
        "\n",
        "\n",
        "\n",
        "# Train Decision Tree Classifier\n",
        "\n",
        "clf = clf.fit(X_train, Y_train)\n",
        "\n",
        "\n",
        "\n",
        "# Predict the response for the test dataset\n",
        "\n",
        "y_pred = clf.predict(X_test)\n",
        "\n",
        "\n",
        "\n",
        "# Model Accuracy, how often is the classifier correct?\n",
        "\n",
        "print(\"Accuracy:\", metrics.accuracy_score(Y_test, y_pred))"
      ],
      "metadata": {
        "colab": {
          "base_uri": "https://localhost:8080/"
        },
        "id": "W6JhH1NKx6SY",
        "outputId": "5ef79f4d-f7cc-4f46-f100-4c6ff2237284"
      },
      "execution_count": 12,
      "outputs": [
        {
          "output_type": "stream",
          "name": "stdout",
          "text": [
            "Accuracy: 0.8\n"
          ]
        }
      ]
    },
    {
      "cell_type": "code",
      "source": [
        "from sklearn.preprocessing import OrdinalEncoder\n",
        "encoder = OrdinalEncoder()\n",
        "#transform data\n",
        "X = encoder.fit_transform(df)\n",
        "print(X)"
      ],
      "metadata": {
        "colab": {
          "base_uri": "https://localhost:8080/"
        },
        "id": "XB-KSHAh0UHL",
        "outputId": "43dd638c-1eab-47a9-829b-2d2c31f4afe0"
      },
      "execution_count": 22,
      "outputs": [
        {
          "output_type": "stream",
          "name": "stdout",
          "text": [
            "[[1. 0. 0. 1. 0.]\n",
            " [1. 0. 0. 0. 0.]\n",
            " [0. 0. 0. 1. 1.]\n",
            " [2. 2. 0. 1. 1.]\n",
            " [2. 1. 1. 1. 1.]\n",
            " [2. 1. 1. 0. 0.]\n",
            " [0. 1. 1. 0. 1.]\n",
            " [1. 2. 0. 1. 0.]\n",
            " [1. 1. 1. 1. 1.]\n",
            " [2. 2. 1. 1. 1.]\n",
            " [1. 2. 1. 0. 1.]\n",
            " [0. 2. 0. 0. 1.]\n",
            " [0. 0. 1. 1. 1.]\n",
            " [2. 2. 0. 0. 0.]]\n"
          ]
        }
      ]
    },
    {
      "cell_type": "code",
      "source": [
        "import matplotlib.pyplot as plt\n",
        "from sklearn.tree import DecisionTreeClassifier, plot_tree\n",
        "plt.figure(figsize=(12, 8))\n",
        "\n",
        "plot_tree(model, filled=True, feature_names=X.columns, class_names=['No', 'Yes'])\n",
        "\n",
        "plt.show()"
      ],
      "metadata": {
        "colab": {
          "base_uri": "https://localhost:8080/",
          "height": 262
        },
        "id": "LKWa8PDa2YtW",
        "outputId": "11e63a9c-ce8f-45f0-93b7-f459b0098617"
      },
      "execution_count": 25,
      "outputs": [
        {
          "output_type": "error",
          "ename": "AttributeError",
          "evalue": "ignored",
          "traceback": [
            "\u001b[0;31m---------------------------------------------------------------------------\u001b[0m",
            "\u001b[0;31mAttributeError\u001b[0m                            Traceback (most recent call last)",
            "\u001b[0;32m<ipython-input-25-1c124328c89c>\u001b[0m in \u001b[0;36m<cell line: 5>\u001b[0;34m()\u001b[0m\n\u001b[1;32m      3\u001b[0m \u001b[0mplt\u001b[0m\u001b[0;34m.\u001b[0m\u001b[0mfigure\u001b[0m\u001b[0;34m(\u001b[0m\u001b[0mfigsize\u001b[0m\u001b[0;34m=\u001b[0m\u001b[0;34m(\u001b[0m\u001b[0;36m12\u001b[0m\u001b[0;34m,\u001b[0m \u001b[0;36m8\u001b[0m\u001b[0;34m)\u001b[0m\u001b[0;34m)\u001b[0m\u001b[0;34m\u001b[0m\u001b[0;34m\u001b[0m\u001b[0m\n\u001b[1;32m      4\u001b[0m \u001b[0;34m\u001b[0m\u001b[0m\n\u001b[0;32m----> 5\u001b[0;31m \u001b[0mplot_tree\u001b[0m\u001b[0;34m(\u001b[0m\u001b[0mmodel\u001b[0m\u001b[0;34m,\u001b[0m \u001b[0mfilled\u001b[0m\u001b[0;34m=\u001b[0m\u001b[0;32mTrue\u001b[0m\u001b[0;34m,\u001b[0m \u001b[0mfeature_names\u001b[0m\u001b[0;34m=\u001b[0m\u001b[0mX\u001b[0m\u001b[0;34m.\u001b[0m\u001b[0mcolumns\u001b[0m\u001b[0;34m,\u001b[0m \u001b[0mclass_names\u001b[0m\u001b[0;34m=\u001b[0m\u001b[0;34m[\u001b[0m\u001b[0;34m'No'\u001b[0m\u001b[0;34m,\u001b[0m \u001b[0;34m'Yes'\u001b[0m\u001b[0;34m]\u001b[0m\u001b[0;34m)\u001b[0m\u001b[0;34m\u001b[0m\u001b[0;34m\u001b[0m\u001b[0m\n\u001b[0m\u001b[1;32m      6\u001b[0m \u001b[0;34m\u001b[0m\u001b[0m\n\u001b[1;32m      7\u001b[0m \u001b[0mplt\u001b[0m\u001b[0;34m.\u001b[0m\u001b[0mshow\u001b[0m\u001b[0;34m(\u001b[0m\u001b[0;34m)\u001b[0m\u001b[0;34m\u001b[0m\u001b[0;34m\u001b[0m\u001b[0m\n",
            "\u001b[0;31mAttributeError\u001b[0m: 'numpy.ndarray' object has no attribute 'columns'"
          ]
        },
        {
          "output_type": "display_data",
          "data": {
            "text/plain": [
              "<Figure size 1200x800 with 0 Axes>"
            ]
          },
          "metadata": {}
        }
      ]
    },
    {
      "cell_type": "code",
      "source": [
        "X_train, X_test, Y_train, Y_test = train_test_split(X, Y, test_size=0.3, random_state=1)  # 70% training and 30% test\n"
      ],
      "metadata": {
        "id": "ROJiLKOO1N84"
      },
      "execution_count": 23,
      "outputs": []
    }
  ]
}